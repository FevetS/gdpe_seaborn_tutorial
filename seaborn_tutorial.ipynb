{
 "cells": [
  {
   "cell_type": "markdown",
   "metadata": {
    "id": "lUGWh7SeZO5S"
   },
   "source": [
    "# Python data visualization with Seaborn and Matplotlib  \n",
    "\n",
    "Most of the below tutorial is cherry-picked and slightly modified from Seaborn's own tutorial page which can be found here:  \n",
    "\n",
    "https://seaborn.pydata.org/tutorial.html\n",
    "\n",
    "Their tutorial is very good. For the sake of time we'll only look at a few important aspects of seaborn with basic examples, but the full tutorial is great resource for more depth and extra examples.  "
   ]
  },
  {
   "cell_type": "markdown",
   "metadata": {
    "id": "C-mTslmNZ3Ii"
   },
   "source": [
    "## Python visualization libraries\n",
    "<img src='https://matplotlib.org/_static/images/logo2.svg' width=200>  \n",
    "Matplotlib is a comprehensive library for creating static, animated, and interactive visualizations in Python. Matplotlib makes easy things easy and hard things possible. This is the predominant ploting library in python and the basis for Seaborn.\n",
    "\n",
    "\n",
    "<img src='https://seaborn.pydata.org/_static/logo-wide-lightbg.svg' width=200>  \n",
    "Seaborn is a Python data visualization library based on matplotlib. It provides a high-level interface for drawing attractive and informative statistical graphics.  \n",
    "\n",
    "\n",
    "<img src='https://static.bokeh.org/branding/logos/bokeh-logo.svg' width=200>  \n",
    "Bokeh is a Python library for creating interactive visualizations for modern web browsers. It helps you build beautiful graphics, ranging from simple plots to complex dashboards with streaming datasets. With Bokeh, you can create JavaScript-powered visualizations without writing any JavaScript yourself.  \n",
    "\n",
    "\n",
    "<img src='https://upload.wikimedia.org/wikipedia/commons/3/37/Plotly-logo-01-square.png' width=200>  \n",
    "Plotly's Python graphing library makes interactive, publication-quality graphs. Examples of how to make line plots, scatter plots, area charts, bar charts, error bars, box plots, histograms, heatmaps, subplots, multiple-axes, polar charts, and bubble charts.  \n",
    "\n",
    "<img src='https://altair-viz.github.io/_static/altair-logo-light.png' width=200>  \n",
    "Altair is a declarative statistical visualization library for Python, based on Vega and Vega-Lite, and the source is available on GitHub. With Altair, you can spend more time understanding your data and its meaning. Altair’s API is simple, friendly and consistent and built on top of the powerful Vega-Lite visualization grammar. This elegant simplicity produces beautiful and effective visualizations with a minimal amount of code.\n",
    "\n",
    "\n",
    "<img src='https://plotnine.readthedocs.io/en/stable/_images/logo-180.png' width=200>  \n",
    "plotnine is an implementation of a grammar of graphics in Python, it is based on ggplot2. The grammar allows users to compose plots by explicitly mapping data to the visual objects that make up the plot.Plotting with a grammar is powerful, it makes custom (and otherwise complex) plots easy to think about and then create, while the simple plots remain simple."
   ]
  },
  {
   "cell_type": "markdown",
   "metadata": {
    "id": "a7tV_BHNZ2Cq"
   },
   "source": [
    "## Why Seaborn?  \n",
    "**Seaborn makes some hard things easy** - Mainly semantics, faceting, nice defaults, and easy customization.  \n",
    "**Seaborn is mature** - Been around many years. Still actively developed.   \n",
    "**Seaborn is popular** - Many people use it (and matplotlib) so you can easily find help on stackexchange and other resources.  \n",
    "**Seaborn is flexible** - Since it's built on matplotlib you can do almost anything.    "
   ]
  },
  {
   "cell_type": "markdown",
   "metadata": {
    "id": "uN2CtzwWg6hB"
   },
   "source": [
    "## Seaborn and Matplotlib  \n",
    "Seaborn is built on top of Matplotlib. A figure created by seaborn is a matplotlib figure. All the elements of the figure are matplotlib elements.  \n",
    "If you have trouble tweaking some component of the figure with seaborn then try looking for help with \"matplotlib\" instead of \"seaborn\".  \n",
    "<img src='https://matplotlib.org/3.5.0/_images/sphx_glr_anatomy_001.png' width=500>"
   ]
  },
  {
   "cell_type": "markdown",
   "metadata": {
    "id": "C7KmUZ5ckK5d"
   },
   "source": [
    "## Getting Started\n",
    "\n",
    "**Installation**  \n",
    "In your existing python environment from the command line -   \n",
    "pip install seaborn\n",
    "\n",
    "Or with conda -  \n",
    "conda install seaborn\n",
    "\n",
    "If you're running this notebook in Google Colab then you don't need to install anything.  \n",
    "\n",
    "**Importing**"
   ]
  },
  {
   "cell_type": "code",
   "execution_count": null,
   "metadata": {
    "id": "QRwrrHlvlKsC"
   },
   "outputs": [],
   "source": [
    "import seaborn as sns"
   ]
  },
  {
   "cell_type": "markdown",
   "metadata": {
    "id": "LXRxhSaMle_Y"
   },
   "source": [
    "Since seaborn is based on matplotlib sometimes it's useful to import the matplotlib scripting interface \"pyplot\""
   ]
  },
  {
   "cell_type": "code",
   "execution_count": null,
   "metadata": {
    "id": "OC_WYFh4lsl1"
   },
   "outputs": [],
   "source": [
    "import matplotlib.pyplot as plt"
   ]
  },
  {
   "cell_type": "markdown",
   "metadata": {
    "id": "8mLCsQMVlvrL"
   },
   "source": [
    "Occassionally it can be useful to import the full matplotlib package to access a few more tools and controls, but this is rarely needed."
   ]
  },
  {
   "cell_type": "code",
   "execution_count": null,
   "metadata": {
    "id": "JiKjYtoLmANR"
   },
   "outputs": [],
   "source": [
    "import matplotlib as mpl"
   ]
  },
  {
   "cell_type": "markdown",
   "metadata": {
    "id": "SoR-glK0fXCY"
   },
   "source": [
    "It's also useful to import math libraries explicitly."
   ]
  },
  {
   "cell_type": "code",
   "execution_count": null,
   "metadata": {
    "id": "oMEDtazffmb_"
   },
   "outputs": [],
   "source": [
    "import pandas as pd\n",
    "import numpy as np"
   ]
  },
  {
   "cell_type": "markdown",
   "metadata": {
    "id": "BW3ulDM2YugX"
   },
   "source": [
    "## Data  \n",
    "Seaborn comes with a few built in pandas datasets for testing. We'll be using these for the tutorial.  \n",
    "\n",
    "<img src='https://upload.wikimedia.org/wikipedia/commons/thumb/e/ed/Pandas_logo.svg/768px-Pandas_logo.svg.png?20200209204934' width=100> is the primary data manipulation tool for python. It's kind of like R dataframes, dplyr and some other tidyverse stuff all rolled into one. And there are plotting methods directly included, but we won't use those."
   ]
  },
  {
   "cell_type": "code",
   "execution_count": null,
   "metadata": {
    "id": "jrRGnsIQY9Jz"
   },
   "outputs": [],
   "source": [
    "penguins = sns.load_dataset(\"penguins\")"
   ]
  },
  {
   "cell_type": "code",
   "execution_count": null,
   "metadata": {
    "colab": {
     "base_uri": "https://localhost:8080/"
    },
    "id": "uwo6xLI2n16h",
    "outputId": "a32087a2-42e7-4a56-a256-c94beeef85b2"
   },
   "outputs": [],
   "source": [
    "type(penguins)"
   ]
  },
  {
   "cell_type": "code",
   "execution_count": null,
   "metadata": {
    "colab": {
     "base_uri": "https://localhost:8080/",
     "height": 206
    },
    "id": "-DndbQBZn7xl",
    "outputId": "075c4250-eeba-4baa-f3d5-7d44d82cb874"
   },
   "outputs": [],
   "source": [
    "penguins.head()"
   ]
  },
  {
   "cell_type": "code",
   "execution_count": null,
   "metadata": {
    "colab": {
     "base_uri": "https://localhost:8080/"
    },
    "id": "FYccMMIQooT2",
    "outputId": "1bc4ba01-c20c-4019-9d48-17c40129dce3"
   },
   "outputs": [],
   "source": [
    "# grabbing a column returns a pandas Series\n",
    "penguins['body_mass_g']"
   ]
  },
  {
   "cell_type": "code",
   "execution_count": null,
   "metadata": {
    "colab": {
     "base_uri": "https://localhost:8080/"
    },
    "id": "Rsh2aYlmowb0",
    "outputId": "cd66d46c-347e-45ad-bff3-a72bfe10d8ea"
   },
   "outputs": [],
   "source": [
    "# grabbing a row also returns a Series\n",
    "penguins.loc[1]"
   ]
  },
  {
   "cell_type": "code",
   "execution_count": null,
   "metadata": {
    "colab": {
     "base_uri": "https://localhost:8080/"
    },
    "id": "0r7hVji-o9xB",
    "outputId": "980843df-92a3-4021-8da9-594b76b2cd79"
   },
   "outputs": [],
   "source": [
    "# grabbing an element\n",
    "penguins.loc[1, 'body_mass_g']"
   ]
  },
  {
   "cell_type": "code",
   "execution_count": null,
   "metadata": {
    "colab": {
     "base_uri": "https://localhost:8080/",
     "height": 300
    },
    "id": "PvonYgfgpFG6",
    "outputId": "4e1d817d-272a-482e-df69-d970a747810c"
   },
   "outputs": [],
   "source": [
    "# summarizing data\n",
    "penguins.describe()"
   ]
  },
  {
   "cell_type": "markdown",
   "metadata": {
    "id": "fuvrUX8m3oaU"
   },
   "source": [
    "## Plot types - quick overview\n",
    "Seaborn can make a wide variety of plots with it's standard plotting functions which are oriented around five types of plots.   \n",
    "\n",
    "**Relational** - statistical relationship between two, usually continuous, variables as line and scatter plots  \n",
    "**Distributional** -  univariate and bivariate distributions as histograms, kernel density estimates, and empirical cumulative distribution functions  \n",
    "**Categorical** - relationships between a continuous and a categorical variable as bar plots, boxplots, violinplots, stripplots, and swarmplots  \n",
    "**Regression** - plot linear regression estimates with uncertainty   \n",
    "**Matrix** - plot rectangular data as a color-encoded matrix with and without clustering"
   ]
  },
  {
   "cell_type": "code",
   "execution_count": null,
   "metadata": {
    "colab": {
     "base_uri": "https://localhost:8080/",
     "height": 387
    },
    "id": "CFjzbBTJ8tRg",
    "outputId": "34be2f01-d405-4ad4-bb9b-475b44b9f30c"
   },
   "outputs": [],
   "source": [
    "# Relational - scatter plot\n",
    "sns.relplot(data=penguins, x='bill_length_mm', y='bill_depth_mm', hue='species')"
   ]
  },
  {
   "cell_type": "code",
   "execution_count": null,
   "metadata": {
    "colab": {
     "base_uri": "https://localhost:8080/",
     "height": 386
    },
    "id": "KwCZkX0a9Bn-",
    "outputId": "5f02f1dd-b21a-41b5-cacd-d001b04ead2d"
   },
   "outputs": [],
   "source": [
    "# Distributional - kernel density estimate\n",
    "sns.displot(data=penguins, x='bill_length_mm', hue='species', kind='kde')"
   ]
  },
  {
   "cell_type": "code",
   "execution_count": null,
   "metadata": {
    "colab": {
     "base_uri": "https://localhost:8080/",
     "height": 386
    },
    "id": "jrVk0OsG9RFj",
    "outputId": "9dcc7ceb-d71a-4fe2-d203-ff19873321de"
   },
   "outputs": [],
   "source": [
    "# Categorical - violinplots\n",
    "sns.catplot(data=penguins, x='bill_length_mm', y='species', kind='violin')"
   ]
  },
  {
   "cell_type": "code",
   "execution_count": null,
   "metadata": {
    "colab": {
     "base_uri": "https://localhost:8080/",
     "height": 386
    },
    "id": "44nlS1IN9r_a",
    "outputId": "b955b0da-ef65-474c-a7e0-566854bbe0be"
   },
   "outputs": [],
   "source": [
    "# Regression\n",
    "sns.lmplot(data=penguins, x='body_mass_g', y='flipper_length_mm', hue='sex')"
   ]
  },
  {
   "cell_type": "code",
   "execution_count": null,
   "metadata": {
    "colab": {
     "base_uri": "https://localhost:8080/",
     "height": 747
    },
    "id": "gQvT9mdwzrGS",
    "outputId": "c70696ce-191e-4f6c-b8d0-b1f54269b809"
   },
   "outputs": [],
   "source": [
    "# Matrix - clustermap\n",
    "sub = penguins[['bill_length_mm', 'bill_depth_mm',\n",
    "                'flipper_length_mm',\t'body_mass_g',]].dropna()\n",
    "sns.clustermap(sub, standard_scale=1)"
   ]
  },
  {
   "cell_type": "markdown",
   "metadata": {
    "id": "01ngfQe0-Equ"
   },
   "source": [
    "The seaborn gallery has lots of examples of the types of plots you can make.\n",
    "\n",
    "If the primary seaborn functions don't have the type of plot you want, you may still be able to implement it along with some of the nice seaborn features like semantics and aggregation by mapping it to a FacetGrid, which I'll show later."
   ]
  },
  {
   "cell_type": "code",
   "execution_count": null,
   "metadata": {
    "colab": {
     "base_uri": "https://localhost:8080/",
     "height": 626
    },
    "id": "Q95oVjQ07Gui",
    "outputId": "e0c7844d-41bb-46c0-e068-7f569b93483f"
   },
   "outputs": [],
   "source": [
    "%%html\n",
    "<iframe src=\"https://seaborn.pydata.org/examples/index.html\" width=\"1000\" height=\"600\"></iframe>"
   ]
  },
  {
   "cell_type": "markdown",
   "metadata": {
    "id": "TmK1ZhmQpYvO"
   },
   "source": [
    "# Seaborn structure and features"
   ]
  },
  {
   "cell_type": "markdown",
   "metadata": {
    "id": "bujd5iTNwrqS"
   },
   "source": [
    "## Data structures - Wide-form vs Long-form  \n",
    "Many plotting functions are of capable of handling both long-form data and wide-form data. If it can't handle one, then it's usually not too difficult to massage the data into the form you need.\n",
    "\n",
    "In the below examples we'll make the same relational plot with different data structures. \"relplot\" is generalized plotting function capable of drawing both line plots and scatterplots.\n"
   ]
  },
  {
   "cell_type": "markdown",
   "metadata": {
    "id": "g0nWa09aOE6x"
   },
   "source": [
    "\n",
    "Long-form data - every row is an observation, every column is an attribute. In the R world this is called tidy data."
   ]
  },
  {
   "cell_type": "code",
   "execution_count": null,
   "metadata": {
    "colab": {
     "base_uri": "https://localhost:8080/",
     "height": 206
    },
    "id": "7rkp5rIxwrz1",
    "outputId": "5d4d24f9-f777-4ebd-a9a3-0a0c608a47cc"
   },
   "outputs": [],
   "source": [
    "flights = sns.load_dataset(\"flights\")\n",
    "flights.head()"
   ]
  },
  {
   "cell_type": "code",
   "execution_count": null,
   "metadata": {
    "colab": {
     "base_uri": "https://localhost:8080/",
     "height": 386
    },
    "id": "_3rz2YtBwr8n",
    "outputId": "135d39df-84d9-4cb8-e776-b2426d9a6d4f"
   },
   "outputs": [],
   "source": [
    "# Long-form data with defined x, y, and hue vectors\n",
    "sns.relplot(data=flights, x=\"year\", y=\"passengers\", hue=\"month\", kind=\"line\")"
   ]
  },
  {
   "cell_type": "markdown",
   "metadata": {
    "id": "x7ZWbpi9ADe1"
   },
   "source": [
    "Wide-form data - The columns and rows define two dimensions of a single attribute.   \n",
    "For example, a measurement taken at different months (columns) and years (rows)."
   ]
  },
  {
   "cell_type": "code",
   "execution_count": null,
   "metadata": {
    "colab": {
     "base_uri": "https://localhost:8080/",
     "height": 238
    },
    "id": "bgOcDyD--kR8",
    "outputId": "e056a6dc-58fe-4269-fe02-a2e3fe949b91"
   },
   "outputs": [],
   "source": [
    "# Make it wide-form\n",
    "flights_wide = flights.pivot(index=\"year\", columns=\"month\", values=\"passengers\")\n",
    "flights_wide.head()"
   ]
  },
  {
   "cell_type": "code",
   "execution_count": null,
   "metadata": {
    "colab": {
     "base_uri": "https://localhost:8080/",
     "height": 386
    },
    "id": "iklko77R-kUi",
    "outputId": "9d80136c-0e44-45a2-98ce-b232d680768f"
   },
   "outputs": [],
   "source": [
    "# Plot wide-form data\n",
    "# Seaborn treats the argument to data as wide form when neither x nor y are assigned.\n",
    "sns.relplot(data=flights_wide, kind=\"line\")"
   ]
  },
  {
   "cell_type": "markdown",
   "metadata": {
    "id": "wQGZLR1g-kXX"
   },
   "source": [
    "Generally it's better to use long-form data and be more explicit about the variables you want used for the different axes, hue and style of plot. \n",
    "\n",
    "There are various ways to munge data into long-form. That is best left to a pandas tutorial but here is one example."
   ]
  },
  {
   "cell_type": "code",
   "execution_count": null,
   "metadata": {
    "colab": {
     "base_uri": "https://localhost:8080/",
     "height": 206
    },
    "id": "-mtEDrLVB336",
    "outputId": "366b3b02-35cb-4abd-fe9e-fc1ff0217f63"
   },
   "outputs": [],
   "source": [
    "# Make the wide data long again\n",
    "flights_long = flights_wide.stack().reset_index().rename(columns={0:'passengers'})\n",
    "flights_long.head()"
   ]
  },
  {
   "cell_type": "markdown",
   "metadata": {
    "id": "T9k-lb2_IKA5"
   },
   "source": [
    "Seaborn can also accept a number of other data formats as vectors for the plotting functions. But notice only the Series retains the name and puts it on the axis label."
   ]
  },
  {
   "cell_type": "code",
   "execution_count": null,
   "metadata": {
    "colab": {
     "base_uri": "https://localhost:8080/",
     "height": 386
    },
    "id": "w9VXKMicII9p",
    "outputId": "7cd9c0b2-cfc8-4136-b0d1-cb9e90294503"
   },
   "outputs": [],
   "source": [
    "# Convert columns to other data formats\n",
    "year = flights['year']                       # pandas Series\n",
    "month = flights['month'].tolist()            # list\n",
    "passengers = flights['passengers'].values    # numpy array\n",
    "\n",
    "sns.relplot(x=year, y=passengers, hue=month, kind=\"line\")"
   ]
  },
  {
   "cell_type": "markdown",
   "metadata": {
    "id": "1F-hk7JUvIKD"
   },
   "source": [
    "## Figure-level vs. axes-level functions\n",
    "\n",
    "Seaborn has several modules that contain the of base plotting functions - relational, distributional, categorical, regression, matrix, and multiplot grids.   \n",
    "\n",
    "<img src='https://seaborn.pydata.org/_images/function_overview_8_0.png'>\n",
    "\n",
    "\n",
    "There is some overlap between functions so you can achieve the same thing (or something very similar) with different functions. Some functions are specific to a kind of plot like \"sns.histplot\" and others are flexible to create any kind of distributional plot like \"sns.displot\".\n",
    "\n",
    "One difference between the above *histplot* and *displot* is that *hisplot* is an axes-level plot and can be drawn into an existing axes. Whereas *displot* is a figure-level plot that creates its own figure and has some additional faceting options.  It actually returns a FacetGrid object that we'll get into later."
   ]
  },
  {
   "cell_type": "code",
   "execution_count": null,
   "metadata": {
    "colab": {
     "base_uri": "https://localhost:8080/",
     "height": 280
    },
    "id": "62r8bHNJElX0",
    "outputId": "e62a042e-a553-459a-856f-e44c4632678f"
   },
   "outputs": [],
   "source": [
    "# Histogram\n",
    "subplot = sns.histplot(data=penguins, x=\"flipper_length_mm\", hue=\"species\", multiple=\"stack\")"
   ]
  },
  {
   "cell_type": "code",
   "execution_count": null,
   "metadata": {
    "colab": {
     "base_uri": "https://localhost:8080/"
    },
    "id": "s-3KASw9Fq7x",
    "outputId": "0f2a4162-4735-4254-fc98-8934472bc914"
   },
   "outputs": [],
   "source": [
    "type(subplot)"
   ]
  },
  {
   "cell_type": "code",
   "execution_count": null,
   "metadata": {
    "colab": {
     "base_uri": "https://localhost:8080/",
     "height": 369
    },
    "id": "586S-rF4pUEh",
    "outputId": "8571d0dc-74f8-4ccd-dee7-57ed4b0b251a"
   },
   "outputs": [],
   "source": [
    "# Same as above histplot with displot returning a FacetGrid\n",
    "# Try changing to kind=\"kde\" to make a kernel density estimate\n",
    "# Or kind=\"edcf\" and remove multiple=\"stack\" to make an empirical cumulative distribution function\n",
    "g = sns.displot(data=penguins, x=\"flipper_length_mm\", hue=\"species\", multiple=\"stack\", kind=\"hist\")"
   ]
  },
  {
   "cell_type": "code",
   "execution_count": null,
   "metadata": {
    "colab": {
     "base_uri": "https://localhost:8080/"
    },
    "id": "BBy7krXiwe-P",
    "outputId": "e3fce791-aa79-496a-99ee-29d8cc969c06"
   },
   "outputs": [],
   "source": [
    "print(type(g))\n",
    "print(type(g.fig))"
   ]
  },
  {
   "cell_type": "code",
   "execution_count": null,
   "metadata": {
    "colab": {
     "base_uri": "https://localhost:8080/",
     "height": 372
    },
    "id": "dY9wnYULwp1-",
    "outputId": "f1c7efc9-82f6-4ba5-dfd6-3fd341c3b6d6"
   },
   "outputs": [],
   "source": [
    "# Distribution plot with column facets\n",
    "sns.displot(data=penguins, x=\"flipper_length_mm\", hue=\"species\", col=\"species\")"
   ]
  },
  {
   "cell_type": "markdown",
   "metadata": {
    "id": "9CzbEvCQwqvU"
   },
   "source": [
    "Axes-level plots draw into an axis object rather than a figure so different plots can be combined in a single figure."
   ]
  },
  {
   "cell_type": "code",
   "execution_count": null,
   "metadata": {
    "colab": {
     "base_uri": "https://localhost:8080/",
     "height": 297
    },
    "id": "FdLl22TRwrez",
    "outputId": "2fb85d09-8d83-4807-901c-55cd97f12202"
   },
   "outputs": [],
   "source": [
    "# Draw two different seaborn plots into separate axes of the same figure\n",
    "f, axs = plt.subplots(1, 2, figsize=(8, 4), gridspec_kw=dict(width_ratios=[4, 3]))\n",
    "sns.scatterplot(data=penguins, x=\"flipper_length_mm\", y=\"bill_length_mm\", hue=\"species\", ax=axs[0])\n",
    "sns.histplot(data=penguins, x=\"species\", hue=\"species\", shrink=.8, alpha=.8, legend=False, ax=axs[1])\n",
    "f.tight_layout()"
   ]
  },
  {
   "cell_type": "markdown",
   "metadata": {
    "id": "NpKCW0VbPgut"
   },
   "source": [
    "## Semantics\n",
    "In addition to X and Y, vectors can be passed to hue, style, and size keywords for illustrating other dimensions of the data. This kind of semantic styling is available in all seaborn plotting functions. Seaborn makes use of semantics much much easier than base matpotlib."
   ]
  },
  {
   "cell_type": "code",
   "execution_count": null,
   "metadata": {
    "colab": {
     "base_uri": "https://localhost:8080/",
     "height": 206
    },
    "id": "8-TdwHa_3Fio",
    "outputId": "81dadbe1-e411-45d2-d466-5fe41296c8bd"
   },
   "outputs": [],
   "source": [
    "# Load the data\n",
    "tips = sns.load_dataset(\"tips\")\n",
    "tips.head()"
   ]
  },
  {
   "cell_type": "code",
   "execution_count": null,
   "metadata": {
    "colab": {
     "base_uri": "https://localhost:8080/",
     "height": 370
    },
    "id": "l3s6neg_Wuhy",
    "outputId": "5be5b5b4-9ac2-4e4b-c681-c4d48f145cf3"
   },
   "outputs": [],
   "source": [
    "# Semantic options with seaborn\n",
    "g = sns.relplot(data=tips, x='total_bill', y='tip', hue=\"smoker\", style=\"time\", size=\"size\", kind='scatter')"
   ]
  },
  {
   "cell_type": "code",
   "execution_count": null,
   "metadata": {
    "colab": {
     "base_uri": "https://localhost:8080/",
     "height": 352
    },
    "id": "FLZK-s96Dlp_",
    "outputId": "05fa5405-8035-48c7-a090-f81db3b219fd"
   },
   "outputs": [],
   "source": [
    "# Semantics with matplotlib\n",
    "fig, ax = plt.subplots(figsize=(5,5))\n",
    "x, y = tips['total_bill'], tips['tip']\n",
    "\n",
    "# Color vector for smoker\n",
    "c = tips['smoker'].map({'No':'orange', 'Yes':'blue'})\n",
    "# Size vector for size\n",
    "s = tips['size']*8\n",
    "# Marker vector for time\n",
    "time_marker = {'Lunch':'o', 'Dinner':'x'}\n",
    "\n",
    "# Plot\n",
    "for time, marker in time_marker.items():\n",
    "  mask = tips['time']==time\n",
    "  sc = ax.scatter(x[mask], y[mask], c=c[mask], s=s[mask], marker=marker, label=time)\n",
    "  \n",
    "  # get size handles and labels for legend\n",
    "  if time=='Lunch':\n",
    "    shandles, slabels = sc.legend_elements(prop=\"sizes\")\n",
    "\n",
    "## Make legend\n",
    "# time legend (get markers automatically but change color)\n",
    "legend1 = ax.legend(loc=(1.05, 0.12), title='time')\n",
    "legend1.legendHandles[0].set_color('black')\n",
    "legend1.legendHandles[1].set_color('black')\n",
    "ax.add_artist(legend1)\n",
    "\n",
    "# size legend (modify labels because they're scaled by 8)\n",
    "newslabels = range(1,7)\n",
    "legend2 = ax.legend(shandles, newslabels, loc=(1.05, 0.3), title=\"size\")\n",
    "ax.add_artist(legend2)\n",
    "\n",
    "# color legend (make manually)\n",
    "chandles = [mpl.lines.Line2D([], [], marker='o', linestyle='None', color='orange'),\n",
    "            mpl.lines.Line2D([], [], marker='o', linestyle='None', color='blue')]\n",
    "legend3 = ax.legend(chandles, ['No', 'Yes'], title='smoker', loc=(1.05,0.7))\n",
    "\n",
    "ax.set(xlabel='total_bill', ylabel='tip')"
   ]
  },
  {
   "cell_type": "markdown",
   "metadata": {
    "id": "nLF1KVwBWvCQ"
   },
   "source": [
    "## Aggregation\n",
    "For datasets with multiple observations, like repeated measures data, you can easily plot an aggregation (e.g. mean) and the variability (e.g. confidence interval). For some plotting functions this aggregation is performed by default if there are multiple measures for a given x and y."
   ]
  },
  {
   "cell_type": "code",
   "execution_count": null,
   "metadata": {
    "colab": {
     "base_uri": "https://localhost:8080/",
     "height": 206
    },
    "id": "rGXiHh2ePgxW",
    "outputId": "9be69394-0e7f-4f7a-b2d6-9663d6f824d0"
   },
   "outputs": [],
   "source": [
    "fmri = sns.load_dataset(\"fmri\")\n",
    "fmri.head()"
   ]
  },
  {
   "cell_type": "code",
   "execution_count": null,
   "metadata": {
    "colab": {
     "base_uri": "https://localhost:8080/",
     "height": 369
    },
    "id": "oP6B_TgRcsM5",
    "outputId": "3436261a-c807-4338-d0b5-8123d254c2d2"
   },
   "outputs": [],
   "source": [
    "# Show the mean signal at each time point and it's bootstrapped 95% confidence\n",
    "# interval aggregated across subjects, events and regions \n",
    "sns.relplot(x=\"timepoint\", y=\"signal\", kind=\"line\", data=fmri);"
   ]
  },
  {
   "cell_type": "markdown",
   "metadata": {
    "id": "MEaRH4WXcsY4"
   },
   "source": [
    "You can use different kinds of estimators and confidence interval functions, including custom functions. You can also change the confidence interval size or use the standard deviation."
   ]
  },
  {
   "cell_type": "code",
   "execution_count": null,
   "metadata": {
    "colab": {
     "base_uri": "https://localhost:8080/",
     "height": 369
    },
    "id": "HD_FpJoHcsce",
    "outputId": "4ee0d904-fb26-4e09-e124-66d4d016d8c9"
   },
   "outputs": [],
   "source": [
    "# Use a median estimator and standard deviation\n",
    "# Try changing ci to an integer and estimator to a different function (np.sum, np.product, etc)\n",
    "sns.relplot(x=\"timepoint\", y=\"signal\", estimator=np.median, ci='sd', kind=\"line\", data=fmri);"
   ]
  },
  {
   "cell_type": "markdown",
   "metadata": {
    "id": "ElUiEmWHgI5o"
   },
   "source": [
    "You can also set estimator=None to plot every observation across given units. If you don't set units then it tries to plot the line at multiple y's for the same x, which is incorrect."
   ]
  },
  {
   "cell_type": "code",
   "execution_count": null,
   "metadata": {
    "colab": {
     "base_uri": "https://localhost:8080/",
     "height": 369
    },
    "id": "Skif1MMIgoCX",
    "outputId": "eab40274-f745-480f-99e2-153fe20de329"
   },
   "outputs": [],
   "source": [
    "# No estimator. One line for each subject.\n",
    "# try removing the units to see what happens\n",
    "df = fmri[(fmri['region']=='parietal') & (fmri['event']=='stim')]\n",
    "sns.relplot(x=\"timepoint\", y=\"signal\", estimator=None, units='subject', kind=\"line\", data=df);"
   ]
  },
  {
   "cell_type": "markdown",
   "metadata": {
    "id": "jW8qB0iw8KFv"
   },
   "source": [
    "## Multi-plot grids\n",
    "Figure-level plots like relplot, displot, catplot, and lmplot are convient functions for faceting with some standard plot types. They in fact return a FacetGrid object. Using FacetGrid itself offers the ability to perform faceting with some additional flexibility."
   ]
  },
  {
   "cell_type": "markdown",
   "metadata": {
    "id": "kHF5OTZ6yLCJ"
   },
   "source": [
    "### FacetGrid"
   ]
  },
  {
   "cell_type": "code",
   "execution_count": null,
   "metadata": {
    "colab": {
     "base_uri": "https://localhost:8080/",
     "height": 206
    },
    "id": "N0t8ouPkUBSg",
    "outputId": "bf507011-2852-487f-dbd9-b3d2c43a7875"
   },
   "outputs": [],
   "source": [
    "tips = sns.load_dataset(\"tips\")\n",
    "tips.head()"
   ]
  },
  {
   "cell_type": "code",
   "execution_count": null,
   "metadata": {
    "colab": {
     "base_uri": "https://localhost:8080/",
     "height": 458
    },
    "id": "HDLJcDCz8OJR",
    "outputId": "9932fa4c-f2f8-4752-c9b5-d073aecc2f11"
   },
   "outputs": [],
   "source": [
    "# Create a FacetGrid and map a plotting function to it\n",
    "# Note how you can pass both positional and keyword arguments to the mapped function\n",
    "g = sns.FacetGrid(tips, col=\"sex\", row='time', hue=\"smoker\", margin_titles=True)\n",
    "g.map(sns.scatterplot, \"total_bill\", \"tip\", alpha=.7)\n",
    "g.add_legend()"
   ]
  },
  {
   "cell_type": "markdown",
   "metadata": {
    "id": "swDfuqkd8OMP"
   },
   "source": [
    "You can control the size of the subplots, the order of various elements, and many other parts of the plot."
   ]
  },
  {
   "cell_type": "code",
   "execution_count": null,
   "metadata": {
    "colab": {
     "base_uri": "https://localhost:8080/",
     "height": 458
    },
    "id": "HpbN0PId8OPY",
    "outputId": "97f9a499-485e-40f6-932a-d21670a1d577"
   },
   "outputs": [],
   "source": [
    "# FacetGrid with specified size, order, and wrapping # of columns\n",
    "attend = sns.load_dataset(\"attention\").query(\"subject <= 12\")\n",
    "g = sns.FacetGrid(attend, col=\"subject\", col_wrap=4, height=2, ylim=(0, 10))\n",
    "g.map(sns.pointplot, \"solutions\", \"score\", order=[1, 2, 3], color=\".3\", ci=None)"
   ]
  },
  {
   "cell_type": "markdown",
   "metadata": {
    "id": "TFCt4nj48OTO"
   },
   "source": [
    "Certain components of the plot can be set using specialized functions to facet grid, or they can be changed by accessing the underlying matplotlib figures and axes."
   ]
  },
  {
   "cell_type": "code",
   "execution_count": null,
   "metadata": {
    "colab": {
     "base_uri": "https://localhost:8080/",
     "height": 296
    },
    "id": "-QBnAzoe8Oax",
    "outputId": "8ff2d89d-3093-4d03-b332-2a002bc783c3"
   },
   "outputs": [],
   "source": [
    "g = sns.FacetGrid(tips, col=\"smoker\", margin_titles=True, height=4)\n",
    "g.map(plt.scatter, \"total_bill\", \"tip\", color=\"#338844\", edgecolor=\"white\", s=50, lw=1)\n",
    "\n",
    "# Modify the axes label (specialize FacetGrid function)\n",
    "g.set_axis_labels(\"Total bill (US Dollars)\", \"Tip\")\n",
    "g.set(xlim=(0, 60), ylim=(0, 12))\n",
    "\n",
    "# Add another plot to the each axis\n",
    "for ax in g.axes_dict.values():\n",
    "    ax.plot((0, 60), (0,10), c=\".2\", ls=\"--\", zorder=0)"
   ]
  },
  {
   "cell_type": "markdown",
   "metadata": {
    "id": "L5S1IOLkXvbd"
   },
   "source": [
    "Probably the best thing about FacetGrid is that you can use it to perform semantic mapping and faceting with custom plotting functions.   \n",
    "**But** the function must...  \n",
    "1) plot to the current axes  \n",
    "2) accept the data as positional arguments  \n",
    "3) accept color and label arguments. You can just use **kwargs for this.  "
   ]
  },
  {
   "cell_type": "code",
   "execution_count": null,
   "metadata": {
    "colab": {
     "base_uri": "https://localhost:8080/",
     "height": 297
    },
    "id": "nlLaZ1kObTRW",
    "outputId": "6a379e08-1285-4877-afe9-a10d4c7ac669"
   },
   "outputs": [],
   "source": [
    "def hexbin(x, y, color, **kwargs):\n",
    "    cmap = sns.light_palette(color, as_cmap=True)\n",
    "    plt.hexbin(x, y, gridsize=15, cmap=cmap, **kwargs)\n",
    "\n",
    "with sns.axes_style(\"dark\"):\n",
    "    g = sns.FacetGrid(tips, hue=\"time\", col=\"time\", height=4)\n",
    "g.map(hexbin, \"total_bill\", \"tip\", extent=[0, 50, 0, 10]);"
   ]
  },
  {
   "cell_type": "markdown",
   "metadata": {
    "id": "0isF9xwuntzG"
   },
   "source": [
    "### Pairgrid and pairplot\n",
    "*Pairgrid* shows the pairwise relationship between multiple variables. It's a very handy tool for exploritory analysis. The plot can be customized to show different types of plots in the upper and lower triangles and the diaganol plots. *Pairplot* is higher-level interface to some of the prime functionality of pairgrid. "
   ]
  },
  {
   "cell_type": "code",
   "execution_count": null,
   "metadata": {
    "colab": {
     "base_uri": "https://localhost:8080/",
     "height": 206
    },
    "id": "aTdptU8Hvm01",
    "outputId": "1fff4bfa-c220-49ff-a276-569c80a23530"
   },
   "outputs": [],
   "source": [
    "iris = sns.load_dataset(\"iris\")\n",
    "iris.head()"
   ]
  },
  {
   "cell_type": "code",
   "execution_count": null,
   "metadata": {
    "colab": {
     "base_uri": "https://localhost:8080/",
     "height": 740
    },
    "id": "DZCx-aYduXoF",
    "outputId": "5ad39e64-f190-4a4a-8e79-c8db3525222d"
   },
   "outputs": [],
   "source": [
    "# Pairwise relationship between flower attributes by species\n",
    "# Try swapping upper&lower for map_offdiag\n",
    "# Note this is a bit slow to draw\n",
    "g = sns.PairGrid(iris, hue=\"species\")\n",
    "g.map_diag(sns.histplot)\n",
    "g.map_lower(sns.kdeplot)\n",
    "g.map_upper(sns.scatterplot)\n",
    "g.add_legend()"
   ]
  },
  {
   "cell_type": "code",
   "execution_count": null,
   "metadata": {
    "colab": {
     "base_uri": "https://localhost:8080/",
     "height": 743
    },
    "id": "yHdJkVQXnvVu",
    "outputId": "7a497eb7-560f-4076-805d-18b1fa58a43c"
   },
   "outputs": [],
   "source": [
    "# Pairplot version (can't specify upper/lower kind yet)\n",
    "g = sns.pairplot(iris, diag_kind=\"hist\", hue=\"species\", height=2.5)\n",
    "# But can still map a function to add it\n",
    "g.map_lower(sns.kdeplot, levels=4, color=\".2\")"
   ]
  },
  {
   "cell_type": "markdown",
   "metadata": {
    "id": "vSZME8LfcM8I"
   },
   "source": [
    "# Aesthetics\n",
    "Matplotlib offers a lot of customizability for plot appearance, but it can often be hard to tweak and typically uses ugly defaults. Seaborn has some nicer themes and offers a high-level interface for controlling most aesthetics."
   ]
  },
  {
   "cell_type": "code",
   "execution_count": null,
   "metadata": {
    "id": "ejUNHHU0d9SO"
   },
   "outputs": [],
   "source": [
    "# Using seaborn aesthetic features doesn't even require a seaborn plot\n",
    "# Use a standard matplotlib plotting function\n",
    "def sinplot(flip=1):\n",
    "    x = np.linspace(0, 14, 100)\n",
    "    for i in range(1, 7):\n",
    "        plt.plot(x, np.sin(x + i * .5) * (7 - i) * flip)"
   ]
  },
  {
   "cell_type": "markdown",
   "metadata": {
    "id": "9Mxi07VzhVT5"
   },
   "source": [
    "## Style"
   ]
  },
  {
   "cell_type": "code",
   "execution_count": null,
   "metadata": {
    "colab": {
     "base_uri": "https://localhost:8080/",
     "height": 265
    },
    "id": "6qcvJDjoeRTx",
    "outputId": "dfb96da3-fb02-4b4f-dcd1-9c558f9e7178"
   },
   "outputs": [],
   "source": [
    "# Default plot style\n",
    "sinplot()"
   ]
  },
  {
   "cell_type": "code",
   "execution_count": null,
   "metadata": {
    "colab": {
     "base_uri": "https://localhost:8080/",
     "height": 265
    },
    "id": "nIR6YGodcOVK",
    "outputId": "0965daa4-bede-4660-d5ae-26055c56906f"
   },
   "outputs": [],
   "source": [
    "# Change to one of five preset seaborn themes: darkgrid, whitegrid, dark, white, and ticks\n",
    "sns.set_style(\"darkgrid\")\n",
    "sinplot()"
   ]
  },
  {
   "cell_type": "code",
   "execution_count": null,
   "metadata": {
    "colab": {
     "base_uri": "https://localhost:8080/",
     "height": 211
    },
    "id": "XikE_Jv6cObd",
    "outputId": "b08d6963-e8d9-4ae9-9022-e50c08c5d3ef"
   },
   "outputs": [],
   "source": [
    "# Temporarily set the style for the current plot\n",
    "f = plt.figure(figsize=(6, 3))\n",
    "gs = f.add_gridspec(1, 2)\n",
    "\n",
    "with sns.axes_style(\"dark\"):\n",
    "    ax = f.add_subplot(gs[0, 0])\n",
    "    sinplot()\n",
    "\n",
    "with sns.axes_style(\"white\"):\n",
    "    ax = f.add_subplot(gs[0, 1])\n",
    "    sinplot()"
   ]
  },
  {
   "cell_type": "markdown",
   "metadata": {
    "id": "kDMx1v1RfeKY"
   },
   "source": [
    "If you want to customize the seaborn styles, you can pass a dictionary of parameters to the rc argument of axes_style() and set_style(). Note that you can only override the parameters that are part of the style definition through this method. (However, the higher-level set_theme() function takes a dictionary of any matplotlib parameters).\n",
    "\n",
    "If you want to see what parameters are included, you can just call the function with no arguments, which will return the current settings:"
   ]
  },
  {
   "cell_type": "code",
   "execution_count": null,
   "metadata": {
    "colab": {
     "base_uri": "https://localhost:8080/"
    },
    "id": "I2GTVuYRcOiM",
    "outputId": "18fcf8c9-3ccd-4dcf-e896-2ad0df7eb4da"
   },
   "outputs": [],
   "source": [
    "sns.axes_style()"
   ]
  },
  {
   "cell_type": "code",
   "execution_count": null,
   "metadata": {
    "colab": {
     "base_uri": "https://localhost:8080/",
     "height": 265
    },
    "id": "EqxubE06cOpl",
    "outputId": "a354559d-d2f5-4c8e-aafe-9bf43891f5ce"
   },
   "outputs": [],
   "source": [
    "# Customize the style\n",
    "sns.set_style(\"darkgrid\", {\"axes.facecolor\": \".7\"})\n",
    "sinplot()"
   ]
  },
  {
   "cell_type": "markdown",
   "metadata": {
    "id": "4UbkYIOIgUUI"
   },
   "source": [
    "## Context  \n",
    "A separate set of parameters control the scale of plot elements, which should let you use the same code to make plots that are suited for use in settings where larger or smaller plots are appropriate."
   ]
  },
  {
   "cell_type": "code",
   "execution_count": null,
   "metadata": {
    "id": "oDblpVmUgVgT"
   },
   "outputs": [],
   "source": [
    "# reset style first\n",
    "sns.set_theme()"
   ]
  },
  {
   "cell_type": "code",
   "execution_count": null,
   "metadata": {
    "colab": {
     "base_uri": "https://localhost:8080/",
     "height": 284
    },
    "id": "6TXaoYsrgWhs",
    "outputId": "109481a5-f17e-4449-f208-797ccd613d7f"
   },
   "outputs": [],
   "source": [
    "# Try setting different contexts: paper, poster, talk, notebook\n",
    "sns.set_context(\"poster\")\n",
    "sinplot()"
   ]
  },
  {
   "cell_type": "code",
   "execution_count": null,
   "metadata": {
    "colab": {
     "base_uri": "https://localhost:8080/",
     "height": 276
    },
    "id": "LQ88VzdSg0pt",
    "outputId": "ea4b7da8-54a7-4c2a-a9ef-298a73d6cec9"
   },
   "outputs": [],
   "source": [
    "# Independently rescale some elements\n",
    "sns.set_context(\"notebook\", font_scale=1.5, rc={\"lines.linewidth\": 1.5})\n",
    "sinplot()"
   ]
  },
  {
   "cell_type": "markdown",
   "metadata": {
    "id": "6oEN2QxGgWkV"
   },
   "source": [
    "## Colors  \n",
    "Seaborn uses some nicer color defaults than base matplotlib, and it offers some tools for choosing good color palettes.  \n",
    "\n",
    "Broadly, palettes fall into one of three categories:  \n",
    "qualitative palettes, good for representing categorical data  \n",
    "sequential palettes, good for representing numeric data  \n",
    "diverging palettes, good for representing numeric data with a categorical boundary"
   ]
  },
  {
   "cell_type": "code",
   "execution_count": null,
   "metadata": {
    "colab": {
     "base_uri": "https://localhost:8080/",
     "height": 77
    },
    "id": "7epII3xAi4lX",
    "outputId": "544fc24b-c35f-4f57-aeea-6cd39945c76f"
   },
   "outputs": [],
   "source": [
    "# return a qualitative color palette\n",
    "pal = sns.color_palette(\"tab10\")\n",
    "pal"
   ]
  },
  {
   "cell_type": "code",
   "execution_count": null,
   "metadata": {
    "colab": {
     "base_uri": "https://localhost:8080/",
     "height": 337,
     "referenced_widgets": [
      "e064d0ff3a024dc496b70d30b71dad80",
      "9e0663ba5c064ceca525ce7761b18553",
      "aaeb8c3f1d084af7861e38e1742b6166",
      "56bb3fce455142d1a026eeff7b6bff4b",
      "0d037d6430ad4292a1a919a405e62fbb",
      "d82ce0aebb124b0a8a69496cdeb5721f",
      "d382507b05bb4dc8b8432c9b23a7dad6",
      "e412dc0cc60b45c9a92429766ac35923",
      "b5c781926d6048649232db0efd47ac26",
      "579c08fc159f407caf3508debfcbaecb",
      "d4787394e71c43b5b57288177eb11045",
      "3565842164a0469d8ea9eb32989e7c64",
      "73bb2a7777a448cd85b120f5538a8282"
     ]
    },
    "id": "18XG2uSEi5Ag",
    "outputId": "b7277eaa-4d10-4556-cf4c-99c3f009f6ab"
   },
   "outputs": [],
   "source": [
    "# Tool to help choose a color brewer palette\n",
    "# Try the other sns.choose_ tools for creating a customized palette\n",
    "sns.choose_colorbrewer_palette('qualitative')"
   ]
  },
  {
   "cell_type": "markdown",
   "metadata": {
    "id": "MKAJWXH8lPBP"
   },
   "source": [
    "Both matplotlib and seaborn have pages with advice and additional tools for choosing a color palette.  \n",
    "https://matplotlib.org/stable/tutorials/colors/colormaps.html  \n",
    "https://seaborn.pydata.org/tutorial/color_palettes.html  \n",
    "\n",
    "There is also the excellent ColorBrewer tool https://colorbrewer2.org/"
   ]
  },
  {
   "cell_type": "markdown",
   "metadata": {
    "id": "q2M-1eWRPzQg"
   },
   "source": [
    "# Matplotlib tips  \n",
    "Below are a couple small things to be aware of when using matplotlib. There is a whole lot more to know, and you can find this by searching through [Matplotlib's docs](https://matplotlib.org/3.5.0/index.html), one of [the cheatsheats](https://matplotlib.org/cheatsheets/), or looking through [their tutorials](https://matplotlib.org/3.5.0/tutorials/index.html). "
   ]
  },
  {
   "cell_type": "markdown",
   "metadata": {
    "id": "0Zi0J5eH8XFK"
   },
   "source": [
    "## Pyplot vs object-oriented interface\n",
    "Matplotlib uses both a functional state-based interface (pyplot) and an object-oriented interface. You can choose to use one or a combination of them when plotting. Pyplot operates on the current active figure and axis, whereas the object-oriented interface operates on the object you're calling a method to."
   ]
  },
  {
   "cell_type": "code",
   "execution_count": null,
   "metadata": {
    "colab": {
     "base_uri": "https://localhost:8080/",
     "height": 370
    },
    "id": "Dtn5d4mu6mjn",
    "outputId": "0fb94e8c-7180-44d9-c108-ce3b291a11c4"
   },
   "outputs": [],
   "source": [
    "sns.relplot(data=penguins, x='bill_length_mm', y='bill_depth_mm', hue='species')"
   ]
  },
  {
   "cell_type": "code",
   "execution_count": null,
   "metadata": {
    "colab": {
     "base_uri": "https://localhost:8080/",
     "height": 298
    },
    "id": "shW0gAs3P1yN",
    "outputId": "6737acae-9d69-4dd3-90ef-5f8b35e9e71c"
   },
   "outputs": [],
   "source": [
    "# Scatterplot with state-based pyplot\n",
    "x, y = penguins[\"flipper_length_mm\"], penguins[\"body_mass_g\"]\n",
    "# Create the current plot\n",
    "plt.scatter(x, y)\n",
    "# Then make some changes to it\n",
    "plt.xlabel(\"Flipper length (mm)\")\n",
    "plt.ylabel(\"Body Mass (g)\")\n",
    "plt.grid(True)"
   ]
  },
  {
   "cell_type": "code",
   "execution_count": null,
   "metadata": {
    "colab": {
     "base_uri": "https://localhost:8080/",
     "height": 298
    },
    "id": "TgLk0lXv6SYR",
    "outputId": "aa531a3d-6ee1-4425-a3fa-18dad5c834f8"
   },
   "outputs": [],
   "source": [
    "# Scatterplot with OO-interface\n",
    "# Set up a figure and axes\n",
    "fig, ax = plt.subplots()\n",
    "# Modify the axes object with methods on the object\n",
    "ax.scatter(x, y)\n",
    "ax.set(xlabel=\"Flipper length (mm)\", ylabel=\"Body Mass (g)\")\n",
    "ax.grid()"
   ]
  },
  {
   "cell_type": "markdown",
   "metadata": {
    "id": "fTUsYUn16SbX"
   },
   "source": [
    "## Annotations and transformations\n",
    "You can add text and draw symbols on plots. One handy way of positioning annotations is to use a transformation so that the coordinates are normalized on a 0-1 scale within the extent of the axis or figure."
   ]
  },
  {
   "cell_type": "code",
   "execution_count": null,
   "metadata": {
    "colab": {
     "base_uri": "https://localhost:8080/",
     "height": 315
    },
    "id": "zRWdMR3s6Sea",
    "outputId": "299ee98a-eabf-4a75-b085-e89ff68916cb"
   },
   "outputs": [],
   "source": [
    "# Add correlation to a regplot in specific position\n",
    "xcol, ycol = \"flipper_length_mm\", \"body_mass_g\"\n",
    "fig, ax = plt.subplots()\n",
    "sns.regplot(data=penguins, x=xcol, y=ycol, ax=ax)\n",
    "\n",
    "corr =  penguins[[xcol, ycol]].corr().iloc[0,1]\n",
    "ax.text(0.1, 0.9, \"r = \"+str(round(corr, 2)), transform=ax.transAxes)"
   ]
  },
  {
   "cell_type": "markdown",
   "metadata": {
    "id": "tGNTG8yn6Shc"
   },
   "source": [
    "## Tight layout  \n",
    "Sometimes plot elements overlap. The tight_layout() method on a figure can often resolve these conflicts automatically by shifting and scaling subplot elements."
   ]
  },
  {
   "cell_type": "code",
   "execution_count": null,
   "metadata": {},
   "outputs": [],
   "source": [
    "sns.set_context('paper')"
   ]
  },
  {
   "cell_type": "code",
   "execution_count": null,
   "metadata": {
    "colab": {
     "base_uri": "https://localhost:8080/",
     "height": 427
    },
    "id": "EqviTiA0AsVW",
    "outputId": "801d57e0-a418-46d6-d357-27b61cbcc750"
   },
   "outputs": [],
   "source": [
    "# Make a plot with overlapping elements\n",
    "fig, axes = plt.subplots(nrows=4, ncols=4, figsize=(6,6))\n",
    "\n",
    "for i, ax in enumerate(axes.flat, start=1):\n",
    "    ax.set_title('Test Axes {}'.format(i))\n",
    "    ax.set_xlabel('X axis')\n",
    "    ax.set_ylabel('Y axis')"
   ]
  },
  {
   "cell_type": "code",
   "execution_count": null,
   "metadata": {
    "colab": {
     "base_uri": "https://localhost:8080/",
     "height": 424
    },
    "id": "EJAdzVvRBFVB",
    "outputId": "43ee3725-64d4-405c-c0ad-b931546003c2"
   },
   "outputs": [],
   "source": [
    "# Adjust with tight_layout\n",
    "fig, axes = plt.subplots(nrows=4, ncols=4, figsize=(6,6))\n",
    "\n",
    "for i, ax in enumerate(axes.flat, start=1):\n",
    "    ax.set_title('Test Axes {}'.format(i))\n",
    "    ax.set_xlabel('X axis')\n",
    "    ax.set_ylabel('Y axis')\n",
    "\n",
    "fig.tight_layout()"
   ]
  },
  {
   "cell_type": "markdown",
   "metadata": {
    "id": "DV0oXibJB9B9"
   },
   "source": [
    "## Other types of plots  \n",
    "Seaborn covers the majority of plots that most people use regularly, but Matplotlib is capable of some other plot types such as images and 3D plots. It might be capable to map these to a seaborn grid, but it's likely best to implement these with base matplotlib.  "
   ]
  },
  {
   "cell_type": "code",
   "execution_count": null,
   "metadata": {
    "colab": {
     "base_uri": "https://localhost:8080/",
     "height": 154
    },
    "id": "2TZdi8_RFj4x",
    "outputId": "7e0f991c-502e-42bd-a519-e9fda33991c7"
   },
   "outputs": [],
   "source": [
    "# Draw an image with matplotlib\n",
    "with mpl.cbook.get_sample_data('logo2.png') as image_file:\n",
    "    image = plt.imread(image_file)\n",
    "plt.imshow(image)"
   ]
  },
  {
   "cell_type": "code",
   "execution_count": null,
   "metadata": {
    "colab": {
     "base_uri": "https://localhost:8080/",
     "height": 266
    },
    "id": "O4alihEvGNDL",
    "outputId": "19d285f0-7b90-4cae-d1da-4151cc8ff96b"
   },
   "outputs": [],
   "source": [
    "# Simple 3D projection scatterplot\n",
    "fig = plt.figure()\n",
    "ax = fig.add_subplot(projection='3d')\n",
    "c = penguins[\"species\"].map({'Adelie':'blue', 'Gentoo':'orange', 'Chinstrap':'green'})\n",
    "ax.scatter(penguins[\"flipper_length_mm\"], penguins[\"body_mass_g\"],\n",
    "           penguins[\"bill_length_mm\"], c=c)"
   ]
  },
  {
   "cell_type": "markdown",
   "metadata": {
    "id": "3hesVzaCJ-TT"
   },
   "source": [
    "Explore the other kinds of matplotlib plots and plotting features:\n"
   ]
  },
  {
   "cell_type": "code",
   "execution_count": null,
   "metadata": {
    "colab": {
     "base_uri": "https://localhost:8080/",
     "height": 626
    },
    "id": "cyJ5zauSK4Lw",
    "outputId": "e3d9316a-7731-41eb-e618-296496ee59eb"
   },
   "outputs": [],
   "source": [
    "%%html\n",
    "<iframe src=\"https://matplotlib.org/stable/gallery/index.html\" width=\"1000\" height=\"600\"></iframe>"
   ]
  },
  {
   "cell_type": "code",
   "execution_count": null,
   "metadata": {
    "id": "3MVJfkXAK77U"
   },
   "outputs": [],
   "source": []
  }
 ],
 "metadata": {
  "colab": {
   "collapsed_sections": [],
   "name": "seaborn_tutorial.ipynb",
   "provenance": [],
   "toc_visible": true
  },
  "kernelspec": {
   "display_name": "Python 3 (ipykernel)",
   "language": "python",
   "name": "python3"
  },
  "language_info": {
   "codemirror_mode": {
    "name": "ipython",
    "version": 3
   },
   "file_extension": ".py",
   "mimetype": "text/x-python",
   "name": "python",
   "nbconvert_exporter": "python",
   "pygments_lexer": "ipython3",
   "version": "3.10.4"
  },
  "widgets": {
   "application/vnd.jupyter.widget-state+json": {
    "0d037d6430ad4292a1a919a405e62fbb": {
     "model_module": "@jupyter-widgets/output",
     "model_module_version": "1.0.0",
     "model_name": "OutputModel",
     "state": {
      "_dom_classes": [],
      "_model_module": "@jupyter-widgets/output",
      "_model_module_version": "1.0.0",
      "_model_name": "OutputModel",
      "_view_count": null,
      "_view_module": "@jupyter-widgets/output",
      "_view_module_version": "1.0.0",
      "_view_name": "OutputView",
      "layout": "IPY_MODEL_73bb2a7777a448cd85b120f5538a8282",
      "msg_id": "",
      "outputs": [
       {
        "data": {
         "image/png": "iVBORw0KGgoAAAANSUhEUgAAAgQAAABECAYAAAD+xS3TAAAABHNCSVQICAgIfAhkiAAAAAlwSFlzAAALEgAACxIB0t1+/AAAADh0RVh0U29mdHdhcmUAbWF0cGxvdGxpYiB2ZXJzaW9uMy4yLjIsIGh0dHA6Ly9tYXRwbG90bGliLm9yZy+WH4yJAAACKklEQVR4nO3ZsYpTURiF0R0dULwBpzEQLPQx7CwEKzGmthK0E9QnUcFOwcq0A2IlWNiNb6EwEojNCBnRIlwrS02Tk3+Ia7X3FLs6fJcz6Pu+DwDwXztTPQAAqCcIAABBAAAIAgAgggAAiCAAAJLsrTuwuDPNaj7fxpatG386zPTpx+oZzRw8uZ777+9Vz2jm1c3XefPgoHpGE3dfTpNnV6tntPP4c/rcql7RzCDv8vbhjeoZzdx+8SG/nh9Wz2jm3KNrmc1m1TM2ruu6TCaTv35fGwSr+Tyro6ONjjpN5sc/qyc0tfixqJ7Q1HJxUj2hneMv1Qsa280fjT9Ovn2tntBU/323787lclk9Yes8GQAAggAAEAQAQAQBABBBAABEEAAAEQQAQAQBABBBAABEEAAAEQQAQAQBABBBAABEEAAAEQQAQAQBABBBAABEEAAAEQQAQAQBABBBAABEEAAAEQQAQAQBABBBAABEEAAAEQQAQAQBABBBAABEEAAAEQQAQAQBABBBAABEEAAAEQQAQAQBABBBAABEEAAAEQQAQAQBABBBAABEEAAAEQQAQAQBABBBAABEEAAAEQQAQAQBABBBAABEEAAAEQQAQJK9dQfOjsfb2FFmvH++ekJTowuj6glNDUdd9YR29q9UL2hst++W7tLl6glNDS7u9t05HA6rJ2xc1/37vhz0fd9vaQsAcEp5MgAABAEAIAgAgAgCACCCAACIIAAAkvwGsH8/a9z56F8AAAAASUVORK5CYII=\n",
         "text/plain": "<Figure size 648x72 with 1 Axes>"
        },
        "metadata": {},
        "output_type": "display_data"
       }
      ]
     }
    },
    "3565842164a0469d8ea9eb32989e7c64": {
     "model_module": "@jupyter-widgets/controls",
     "model_module_version": "1.5.0",
     "model_name": "SliderStyleModel",
     "state": {
      "_model_module": "@jupyter-widgets/controls",
      "_model_module_version": "1.5.0",
      "_model_name": "SliderStyleModel",
      "_view_count": null,
      "_view_module": "@jupyter-widgets/base",
      "_view_module_version": "1.2.0",
      "_view_name": "StyleView",
      "description_width": "",
      "handle_color": null
     }
    },
    "56bb3fce455142d1a026eeff7b6bff4b": {
     "model_module": "@jupyter-widgets/controls",
     "model_module_version": "1.5.0",
     "model_name": "FloatSliderModel",
     "state": {
      "_dom_classes": [],
      "_model_module": "@jupyter-widgets/controls",
      "_model_module_version": "1.5.0",
      "_model_name": "FloatSliderModel",
      "_view_count": null,
      "_view_module": "@jupyter-widgets/controls",
      "_view_module_version": "1.5.0",
      "_view_name": "FloatSliderView",
      "continuous_update": true,
      "description": "desat",
      "description_tooltip": null,
      "disabled": false,
      "layout": "IPY_MODEL_d4787394e71c43b5b57288177eb11045",
      "max": 1,
      "min": 0,
      "orientation": "horizontal",
      "readout": true,
      "readout_format": ".2f",
      "step": 0.1,
      "style": "IPY_MODEL_3565842164a0469d8ea9eb32989e7c64",
      "value": 1
     }
    },
    "579c08fc159f407caf3508debfcbaecb": {
     "model_module": "@jupyter-widgets/controls",
     "model_module_version": "1.5.0",
     "model_name": "SliderStyleModel",
     "state": {
      "_model_module": "@jupyter-widgets/controls",
      "_model_module_version": "1.5.0",
      "_model_name": "SliderStyleModel",
      "_view_count": null,
      "_view_module": "@jupyter-widgets/base",
      "_view_module_version": "1.2.0",
      "_view_name": "StyleView",
      "description_width": "",
      "handle_color": null
     }
    },
    "73bb2a7777a448cd85b120f5538a8282": {
     "model_module": "@jupyter-widgets/base",
     "model_module_version": "1.2.0",
     "model_name": "LayoutModel",
     "state": {
      "_model_module": "@jupyter-widgets/base",
      "_model_module_version": "1.2.0",
      "_model_name": "LayoutModel",
      "_view_count": null,
      "_view_module": "@jupyter-widgets/base",
      "_view_module_version": "1.2.0",
      "_view_name": "LayoutView",
      "align_content": null,
      "align_items": null,
      "align_self": null,
      "border": null,
      "bottom": null,
      "display": null,
      "flex": null,
      "flex_flow": null,
      "grid_area": null,
      "grid_auto_columns": null,
      "grid_auto_flow": null,
      "grid_auto_rows": null,
      "grid_column": null,
      "grid_gap": null,
      "grid_row": null,
      "grid_template_areas": null,
      "grid_template_columns": null,
      "grid_template_rows": null,
      "height": null,
      "justify_content": null,
      "justify_items": null,
      "left": null,
      "margin": null,
      "max_height": null,
      "max_width": null,
      "min_height": null,
      "min_width": null,
      "object_fit": null,
      "object_position": null,
      "order": null,
      "overflow": null,
      "overflow_x": null,
      "overflow_y": null,
      "padding": null,
      "right": null,
      "top": null,
      "visibility": null,
      "width": null
     }
    },
    "9e0663ba5c064ceca525ce7761b18553": {
     "model_module": "@jupyter-widgets/controls",
     "model_module_version": "1.5.0",
     "model_name": "DropdownModel",
     "state": {
      "_dom_classes": [],
      "_model_module": "@jupyter-widgets/controls",
      "_model_module_version": "1.5.0",
      "_model_name": "DropdownModel",
      "_options_labels": [
       "Set1",
       "Set2",
       "Set3",
       "Paired",
       "Accent",
       "Pastel1",
       "Pastel2",
       "Dark2"
      ],
      "_view_count": null,
      "_view_module": "@jupyter-widgets/controls",
      "_view_module_version": "1.5.0",
      "_view_name": "DropdownView",
      "description": "name",
      "description_tooltip": null,
      "disabled": false,
      "index": 0,
      "layout": "IPY_MODEL_d382507b05bb4dc8b8432c9b23a7dad6",
      "style": "IPY_MODEL_e412dc0cc60b45c9a92429766ac35923"
     }
    },
    "aaeb8c3f1d084af7861e38e1742b6166": {
     "model_module": "@jupyter-widgets/controls",
     "model_module_version": "1.5.0",
     "model_name": "IntSliderModel",
     "state": {
      "_dom_classes": [],
      "_model_module": "@jupyter-widgets/controls",
      "_model_module_version": "1.5.0",
      "_model_name": "IntSliderModel",
      "_view_count": null,
      "_view_module": "@jupyter-widgets/controls",
      "_view_module_version": "1.5.0",
      "_view_name": "IntSliderView",
      "continuous_update": true,
      "description": "n",
      "description_tooltip": null,
      "disabled": false,
      "layout": "IPY_MODEL_b5c781926d6048649232db0efd47ac26",
      "max": 16,
      "min": 2,
      "orientation": "horizontal",
      "readout": true,
      "readout_format": "d",
      "step": 1,
      "style": "IPY_MODEL_579c08fc159f407caf3508debfcbaecb",
      "value": 9
     }
    },
    "b5c781926d6048649232db0efd47ac26": {
     "model_module": "@jupyter-widgets/base",
     "model_module_version": "1.2.0",
     "model_name": "LayoutModel",
     "state": {
      "_model_module": "@jupyter-widgets/base",
      "_model_module_version": "1.2.0",
      "_model_name": "LayoutModel",
      "_view_count": null,
      "_view_module": "@jupyter-widgets/base",
      "_view_module_version": "1.2.0",
      "_view_name": "LayoutView",
      "align_content": null,
      "align_items": null,
      "align_self": null,
      "border": null,
      "bottom": null,
      "display": null,
      "flex": null,
      "flex_flow": null,
      "grid_area": null,
      "grid_auto_columns": null,
      "grid_auto_flow": null,
      "grid_auto_rows": null,
      "grid_column": null,
      "grid_gap": null,
      "grid_row": null,
      "grid_template_areas": null,
      "grid_template_columns": null,
      "grid_template_rows": null,
      "height": null,
      "justify_content": null,
      "justify_items": null,
      "left": null,
      "margin": null,
      "max_height": null,
      "max_width": null,
      "min_height": null,
      "min_width": null,
      "object_fit": null,
      "object_position": null,
      "order": null,
      "overflow": null,
      "overflow_x": null,
      "overflow_y": null,
      "padding": null,
      "right": null,
      "top": null,
      "visibility": null,
      "width": null
     }
    },
    "d382507b05bb4dc8b8432c9b23a7dad6": {
     "model_module": "@jupyter-widgets/base",
     "model_module_version": "1.2.0",
     "model_name": "LayoutModel",
     "state": {
      "_model_module": "@jupyter-widgets/base",
      "_model_module_version": "1.2.0",
      "_model_name": "LayoutModel",
      "_view_count": null,
      "_view_module": "@jupyter-widgets/base",
      "_view_module_version": "1.2.0",
      "_view_name": "LayoutView",
      "align_content": null,
      "align_items": null,
      "align_self": null,
      "border": null,
      "bottom": null,
      "display": null,
      "flex": null,
      "flex_flow": null,
      "grid_area": null,
      "grid_auto_columns": null,
      "grid_auto_flow": null,
      "grid_auto_rows": null,
      "grid_column": null,
      "grid_gap": null,
      "grid_row": null,
      "grid_template_areas": null,
      "grid_template_columns": null,
      "grid_template_rows": null,
      "height": null,
      "justify_content": null,
      "justify_items": null,
      "left": null,
      "margin": null,
      "max_height": null,
      "max_width": null,
      "min_height": null,
      "min_width": null,
      "object_fit": null,
      "object_position": null,
      "order": null,
      "overflow": null,
      "overflow_x": null,
      "overflow_y": null,
      "padding": null,
      "right": null,
      "top": null,
      "visibility": null,
      "width": null
     }
    },
    "d4787394e71c43b5b57288177eb11045": {
     "model_module": "@jupyter-widgets/base",
     "model_module_version": "1.2.0",
     "model_name": "LayoutModel",
     "state": {
      "_model_module": "@jupyter-widgets/base",
      "_model_module_version": "1.2.0",
      "_model_name": "LayoutModel",
      "_view_count": null,
      "_view_module": "@jupyter-widgets/base",
      "_view_module_version": "1.2.0",
      "_view_name": "LayoutView",
      "align_content": null,
      "align_items": null,
      "align_self": null,
      "border": null,
      "bottom": null,
      "display": null,
      "flex": null,
      "flex_flow": null,
      "grid_area": null,
      "grid_auto_columns": null,
      "grid_auto_flow": null,
      "grid_auto_rows": null,
      "grid_column": null,
      "grid_gap": null,
      "grid_row": null,
      "grid_template_areas": null,
      "grid_template_columns": null,
      "grid_template_rows": null,
      "height": null,
      "justify_content": null,
      "justify_items": null,
      "left": null,
      "margin": null,
      "max_height": null,
      "max_width": null,
      "min_height": null,
      "min_width": null,
      "object_fit": null,
      "object_position": null,
      "order": null,
      "overflow": null,
      "overflow_x": null,
      "overflow_y": null,
      "padding": null,
      "right": null,
      "top": null,
      "visibility": null,
      "width": null
     }
    },
    "d82ce0aebb124b0a8a69496cdeb5721f": {
     "model_module": "@jupyter-widgets/base",
     "model_module_version": "1.2.0",
     "model_name": "LayoutModel",
     "state": {
      "_model_module": "@jupyter-widgets/base",
      "_model_module_version": "1.2.0",
      "_model_name": "LayoutModel",
      "_view_count": null,
      "_view_module": "@jupyter-widgets/base",
      "_view_module_version": "1.2.0",
      "_view_name": "LayoutView",
      "align_content": null,
      "align_items": null,
      "align_self": null,
      "border": null,
      "bottom": null,
      "display": null,
      "flex": null,
      "flex_flow": null,
      "grid_area": null,
      "grid_auto_columns": null,
      "grid_auto_flow": null,
      "grid_auto_rows": null,
      "grid_column": null,
      "grid_gap": null,
      "grid_row": null,
      "grid_template_areas": null,
      "grid_template_columns": null,
      "grid_template_rows": null,
      "height": null,
      "justify_content": null,
      "justify_items": null,
      "left": null,
      "margin": null,
      "max_height": null,
      "max_width": null,
      "min_height": null,
      "min_width": null,
      "object_fit": null,
      "object_position": null,
      "order": null,
      "overflow": null,
      "overflow_x": null,
      "overflow_y": null,
      "padding": null,
      "right": null,
      "top": null,
      "visibility": null,
      "width": null
     }
    },
    "e064d0ff3a024dc496b70d30b71dad80": {
     "model_module": "@jupyter-widgets/controls",
     "model_module_version": "1.5.0",
     "model_name": "VBoxModel",
     "state": {
      "_dom_classes": [
       "widget-interact"
      ],
      "_model_module": "@jupyter-widgets/controls",
      "_model_module_version": "1.5.0",
      "_model_name": "VBoxModel",
      "_view_count": null,
      "_view_module": "@jupyter-widgets/controls",
      "_view_module_version": "1.5.0",
      "_view_name": "VBoxView",
      "box_style": "",
      "children": [
       "IPY_MODEL_9e0663ba5c064ceca525ce7761b18553",
       "IPY_MODEL_aaeb8c3f1d084af7861e38e1742b6166",
       "IPY_MODEL_56bb3fce455142d1a026eeff7b6bff4b",
       "IPY_MODEL_0d037d6430ad4292a1a919a405e62fbb"
      ],
      "layout": "IPY_MODEL_d82ce0aebb124b0a8a69496cdeb5721f"
     }
    },
    "e412dc0cc60b45c9a92429766ac35923": {
     "model_module": "@jupyter-widgets/controls",
     "model_module_version": "1.5.0",
     "model_name": "DescriptionStyleModel",
     "state": {
      "_model_module": "@jupyter-widgets/controls",
      "_model_module_version": "1.5.0",
      "_model_name": "DescriptionStyleModel",
      "_view_count": null,
      "_view_module": "@jupyter-widgets/base",
      "_view_module_version": "1.2.0",
      "_view_name": "StyleView",
      "description_width": ""
     }
    }
   }
  }
 },
 "nbformat": 4,
 "nbformat_minor": 4
}
